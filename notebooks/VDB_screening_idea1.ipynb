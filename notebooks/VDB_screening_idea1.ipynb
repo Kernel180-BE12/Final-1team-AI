{
 "cells": [
  {
   "cell_type": "code",
   "execution_count": null,
   "id": "4655e54e",
   "metadata": {},
   "outputs": [],
   "source": [
    "from dotenv import load_dotenv\n",
    "\n",
    "load_dotenv()\n",
    "\n",
    "from langchain_teddynote import logging\n",
    "\n",
    "logging.langsmith(\"FinalProject\")"
   ]
  },
  {
   "cell_type": "code",
   "execution_count": null,
   "id": "33ba7933",
   "metadata": {},
   "outputs": [],
   "source": [
    "import os\n",
    "import json\n",
    "import glob\n",
    "\n",
    "# 데이터가 저장된 폴더 이름\n",
    "DATA_DIR = \"../data\"\n",
    "\n",
    "\n",
    "def load_all_violation_data(directory):\n",
    "    \"\"\"\n",
    "    지정된 디렉토리에서 'violation_n.json' 형식의 모든 파일을 찾아\n",
    "    하나의 리스트로 합쳐서 반환합니다.\n",
    "    \"\"\"\n",
    "\n",
    "    # data/violation_*.json 패턴에 맞는 모든 파일 경로를 찾습니다.\n",
    "    file_pattern = os.path.join(directory, \"violation_*.json\")\n",
    "    json_file_paths = glob.glob(file_pattern)\n",
    "\n",
    "    # 파일 이름 순서대로 정렬 (예: violation_1, violation_2, ..., violation_10 순)\n",
    "    # glob은 순서를 보장하지 않으므로, 수동 정렬이 필요할 수 있습니다.\n",
    "    # 파일 이름에서 숫자 부분을 추출하여 정렬합니다.\n",
    "    json_file_paths.sort(\n",
    "        key=lambda x: int(os.path.basename(x).split(\"_\")[1].split(\".\")[0])\n",
    "    )\n",
    "\n",
    "    if not json_file_paths:\n",
    "        print(\n",
    "            f\"경고: '{directory}' 폴더에서 'violation_n.json' 파일을 찾을 수 없습니다.\"\n",
    "        )\n",
    "        return []\n",
    "\n",
    "    # 모든 JSON 파일의 데이터를 담을 빈 리스트\n",
    "    combined_data = []\n",
    "\n",
    "    print(f\"총 {len(json_file_paths)}개의 파일을 불러옵니다...\")\n",
    "\n",
    "    # 각 파일을 순회하며 데이터를 불러오고 리스트에 추가합니다.\n",
    "    for file_path in json_file_paths:\n",
    "        try:\n",
    "            with open(file_path, \"r\", encoding=\"utf-8\") as f:\n",
    "                data_in_file = json.load(f)\n",
    "                # extend를 사용하여 리스트 안의 모든 항목을 개별적으로 추가\n",
    "                combined_data.extend(data_in_file)\n",
    "        except json.JSONDecodeError:\n",
    "            print(f\"오류: '{file_path}' 파일이 올바른 JSON 형식이 아닙니다.\")\n",
    "        except Exception as e:\n",
    "            print(f\"'{file_path}' 파일을 읽는 중 오류가 발생했습니다: {e}\")\n",
    "\n",
    "    return combined_data"
   ]
  },
  {
   "cell_type": "code",
   "execution_count": 26,
   "id": "2911e97a",
   "metadata": {},
   "outputs": [
    {
     "name": "stdout",
     "output_type": "stream",
     "text": [
      "총 22개의 파일을 불러옵니다...\n",
      "\n",
      "총 220개의 데이터 항목 로드 완료.\n",
      "'220'개의 LangChain Document 객체를 생성했습니다.\n",
      "\n",
      "OpenAI 임베딩 모델을 초기화합니다...\n"
     ]
    },
    {
     "name": "stderr",
     "output_type": "stream",
     "text": [
      "Failed to send telemetry event ClientStartEvent: capture() takes 1 positional argument but 3 were given\n",
      "Failed to send telemetry event ClientCreateCollectionEvent: capture() takes 1 positional argument but 3 were given\n"
     ]
    },
    {
     "name": "stdout",
     "output_type": "stream",
     "text": [
      "코사인 유사도를 사용하여 Chroma DB 생성을 시작합니다. 저장 위치: '../chroma_db_cos'\n",
      "\n",
      "✅ 총 220개의 문서가 성공적으로 임베딩되어 Chroma DB에 저장되었습니다.\n"
     ]
    }
   ],
   "source": [
    "import os\n",
    "from dotenv import load_dotenv\n",
    "from langchain.schema.document import Document\n",
    "from langchain_openai import OpenAIEmbeddings\n",
    "from langchain_community.vectorstores import Chroma\n",
    "\n",
    "# --- 사전 준비 (시뮬레이션을 위한 더미 함수 및 데이터) ---\n",
    "DATA_DIR = \"../data\"\n",
    "\n",
    "# --- OpenAI API 키 설정 ---\n",
    "load_dotenv()\n",
    "if \"OPENAI_API_KEY\" not in os.environ:\n",
    "    print(\"OpenAI API 키가 설정되지 않았습니다.\")\n",
    "    exit()\n",
    "\n",
    "# --- 벡터 DB를 저장할 경로 설정 ---\n",
    "CHROMA_PATH_COSINE = \"../chroma_db_cos\"  # 코사인 유사도 DB를 위한 새 경로\n",
    "\n",
    "# --- 데이터 로드 및 Document 객체 변환 (이전과 동일) ---\n",
    "all_data = load_all_violation_data(DATA_DIR)\n",
    "if not all_data:\n",
    "    print(\"로드할 데이터가 없습니다.\")\n",
    "    exit()\n",
    "print(f\"\\n총 {len(all_data)}개의 데이터 항목 로드 완료.\")\n",
    "\n",
    "documents = []\n",
    "for item in all_data:\n",
    "    if \"증강데이터\" in item:\n",
    "        page_content = item.pop(\"증강데이터\")\n",
    "        metadata = item\n",
    "        documents.append(Document(page_content=page_content, metadata=metadata))\n",
    "print(f\"'{len(documents)}'개의 LangChain Document 객체를 생성했습니다.\")\n",
    "\n",
    "\n",
    "# ==============================================================================\n",
    "# ▼▼▼▼▼▼▼▼▼▼▼▼▼▼▼▼▼▼▼▼▼▼▼▼▼▼▼▼▼▼▼▼▼▼▼▼▼▼▼▼▼▼▼▼▼▼▼▼▼▼▼▼▼▼▼▼▼▼▼▼▼▼▼▼▼▼▼▼▼▼▼▼▼▼▼▼▼▼\n",
    "# 벡터 DB 생성 (코사인 유사도 설정 추가)\n",
    "# ==============================================================================\n",
    "\n",
    "# 1. OpenAI 임베딩 모델 초기화\n",
    "print(\"\\nOpenAI 임베딩 모델을 초기화합니다...\")\n",
    "embeddings = OpenAIEmbeddings(model=\"text-embedding-3-small\")\n",
    "\n",
    "# 2. Chroma DB 생성 시 코사인 유사도(cosine) 설정 추가\n",
    "print(\n",
    "    f\"코사인 유사도를 사용하여 Chroma DB 생성을 시작합니다. 저장 위치: '{CHROMA_PATH_COSINE}'\"\n",
    ")\n",
    "db_cosine = Chroma.from_documents(\n",
    "    documents=documents,\n",
    "    embedding=embeddings,\n",
    "    persist_directory=CHROMA_PATH_COSINE,\n",
    "    # ⭐ 이 부분이 코사인 유사도를 설정하는 핵심입니다.\n",
    "    collection_metadata={\"hnsw:space\": \"cosine\"},\n",
    ")\n",
    "\n",
    "print(\n",
    "    f\"\\n✅ 총 {db_cosine._collection.count()}개의 문서가 성공적으로 임베딩되어 Chroma DB에 저장되었습니다.\"\n",
    ")\n",
    "# ==============================================================================\n",
    "# ▲▲▲▲▲▲▲▲▲▲▲▲▲▲▲▲▲▲▲▲▲▲▲▲▲▲▲▲▲▲▲▲▲▲▲▲▲▲▲▲▲▲▲▲▲▲▲▲▲▲▲▲▲▲▲▲▲▲▲▲▲▲▲▲▲▲▲▲▲▲▲▲▲▲▲▲▲▲\n",
    "# =============================================================================="
   ]
  },
  {
   "cell_type": "code",
   "execution_count": 28,
   "id": "6a340daf",
   "metadata": {},
   "outputs": [
    {
     "name": "stderr",
     "output_type": "stream",
     "text": [
      "Failed to send telemetry event ClientStartEvent: capture() takes 1 positional argument but 3 were given\n",
      "Failed to send telemetry event ClientCreateCollectionEvent: capture() takes 1 positional argument but 3 were given\n"
     ]
    },
    {
     "name": "stdout",
     "output_type": "stream",
     "text": [
      "\n",
      "--- 저장된 코사인 유사도 DB 로드 및 검색 테스트 ---\n",
      "\n",
      "[쿼리]:  \n",
      "#{발신 스페이스} 요금 미납으로 서비스 사용 정지되었습니다.  미납 전액 납부하셔야 정지 해제되므로 빠른 납부 바랍니다. ▶미납금액: #{미납금액}  자세한 내용은 아래 \"자세히보기\" 버튼을 클릭해 주세요.\n",
      "\n",
      "\n",
      "[검색 결과 (코사인 유사도 점수 포함)]:\n",
      "  - 유사도 점수: 0.3806\n",
      "    - 내용: [미납안내] #{고객명}님, 통신요금이 미납되었습니다. 아래 버튼을 눌러 바로 결제하세요. [버튼: 지금 바로 납부하기]\n",
      "    - 출처 법규: R-04\n",
      "    - 출처 법규: (10) 결제/송금/납부 유도\n",
      "--------------------\n",
      "  - 유사도 점수: 0.4145\n",
      "    - 내용: 회비 납부 마감일입니다. 원활한 서비스 이용을 위해 빠른 납부 부탁드립니다. [버튼: 회비 납부]\n",
      "    - 출처 법규: R-04\n",
      "    - 출처 법규: (10) 결제/송금/납부 유도\n",
      "--------------------\n"
     ]
    }
   ],
   "source": [
    "# --- (권장) 저장된 DB 로드 및 '유사도 점수'와 함께 검색 테스트 ---\n",
    "print(\"\\n--- 저장된 코사인 유사도 DB 로드 및 검색 테스트 ---\")\n",
    "\n",
    "# DB 로드\n",
    "db_loaded_cosine = Chroma(\n",
    "    persist_directory=CHROMA_PATH_COSINE, embedding_function=embeddings\n",
    ")\n",
    "\n",
    "# 쿼리 예시\n",
    "q1 = '#{발신 스페이스} 요금 미납으로 서비스 사용 정지되었습니다.  미납 전액 납부하셔야 정지 해제되므로 빠른 납부 바랍니다. ▶미납금액: #{미납금액}  자세한 내용은 아래 \"자세히보기\" 버튼을 클릭해 주세요.'\n",
    "\n",
    "query = \"\"\" \n",
    "#{발신 스페이스} 요금 미납으로 서비스 사용 정지되었습니다.  미납 전액 납부하셔야 정지 해제되므로 빠른 납부 바랍니다. ▶미납금액: #{미납금액}  자세한 내용은 아래 \"자세히보기\" 버튼을 클릭해 주세요.\n",
    "\"\"\"\n",
    "search_results_with_score = db_loaded_cosine.similarity_search_with_score(query, k=2)\n",
    "\n",
    "print(f\"\\n[쿼리]: {query}\")\n",
    "print(\"\\n[검색 결과 (코사인 유사도 점수 포함)]:\")\n",
    "for doc, score in search_results_with_score:\n",
    "    print(f\"  - 유사도 점수: {score:.4f}\")  # 소수점 4자리까지 출력\n",
    "    print(f\"    - 내용: {doc.page_content}\")\n",
    "    print(f\"    - 출처 법규: {doc.metadata.get('규정', 'N/A')}\")\n",
    "    print(f\"    - 출처 법규: {doc.metadata.get('위반상세', 'N/A')}\")\n",
    "    print(\"-\" * 20)"
   ]
  },
  {
   "cell_type": "code",
   "execution_count": null,
   "id": "0d26b328",
   "metadata": {},
   "outputs": [],
   "source": []
  }
 ],
 "metadata": {
  "kernelspec": {
   "display_name": "langchain-kr-py3.11",
   "language": "python",
   "name": "python3"
  },
  "language_info": {
   "codemirror_mode": {
    "name": "ipython",
    "version": 3
   },
   "file_extension": ".py",
   "mimetype": "text/x-python",
   "name": "python",
   "nbconvert_exporter": "python",
   "pygments_lexer": "ipython3",
   "version": "3.11.9"
  }
 },
 "nbformat": 4,
 "nbformat_minor": 5
}
